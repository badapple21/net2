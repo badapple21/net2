{
 "cells": [
  {
   "cell_type": "code",
   "execution_count": 35,
   "metadata": {},
   "outputs": [],
   "source": [
    "from mnist import MNIST\n",
    "import random \n",
    "\n",
    "mndata = MNIST('samples')\n",
    "\n",
    "images, labels = mndata.load_training()\n",
    "# 1or\n",
    "# images, labels = mndata.load_testing()"
   ]
  },
  {
   "cell_type": "code",
   "execution_count": 36,
   "metadata": {},
   "outputs": [],
   "source": [
    "# index = 999  # choose an index ;-)\n",
    "# # print(mndata.display(images[index]))\n",
    "# print(labels[index])\n",
    "# print(len(images[index]))"
   ]
  },
  {
   "cell_type": "code",
   "execution_count": 37,
   "metadata": {},
   "outputs": [],
   "source": [
    "# import matplotlib.pyplot as plt\n",
    "# import numpy as np\n",
    "# index = 55\n",
    "# image = np.array(images[index]).reshape(28, 28)\n",
    "# plt.imshow(image)\n",
    "# plt.show()"
   ]
  },
  {
   "cell_type": "code",
   "execution_count": 38,
   "metadata": {},
   "outputs": [],
   "source": [
    "class neuron:\n",
    "    def __init__(self, activation, layer, row, weights, bias):\n",
    "        self.activation = activation\n",
    "        self.layer = layer\n",
    "        self.row = row\n",
    "        self.weights = weights\n",
    "        self.bias = bias \n"
   ]
  },
  {
   "cell_type": "code",
   "execution_count": 39,
   "metadata": {},
   "outputs": [],
   "source": [
    "class input_neuron(neuron):\n",
    "    def __init__(self, activation, row):\n",
    "        super().__init__(activation, 0, row, [], 0)"
   ]
  },
  {
   "cell_type": "code",
   "execution_count": 40,
   "metadata": {},
   "outputs": [],
   "source": [
    "class output_neuron(neuron):\n",
    "    def __init__(self, activation, row, weights, bias):\n",
    "        super().__init__(0, 3, row, weights, bias)"
   ]
  },
  {
   "cell_type": "code",
   "execution_count": 41,
   "metadata": {},
   "outputs": [],
   "source": [
    "class hidden_neuron(neuron):\n",
    "    def __init__(self, activation, layer, row, weights, bias):\n",
    "        super().__init__(activation, layer, row, weights, bias)"
   ]
  },
  {
   "cell_type": "code",
   "execution_count": 43,
   "metadata": {},
   "outputs": [],
   "source": [
    "net = [[],[],[],[]]\n",
    "for i in range(len(images[0])):\n",
    "    net[0].append(input_neuron(0, i))\n",
    "for i in range(1, 3):\n",
    "    for j in range(16):\n",
    "        net[i].append(hidden_neuron(0, i, j, [random.randint(0, 100)/100 for i in range(len(net[i-1]))], random.randint(1, 100)))\n",
    "for i in range(10):\n",
    "    net[3].append(output_neuron(0, i, [random.randint(0, 100)/100 for i in range(len(net[2]))], random.randint(1, 100)))\n"
   ]
  },
  {
   "cell_type": "code",
   "execution_count": null,
   "metadata": {},
   "outputs": [],
   "source": [
    "image_number = 0\n",
    "for i in range(len(net[0])):\n",
    "    net[0][i].activation = images[image_number][i]\n",
    "    print(\"hello\")"
   ]
  }
 ],
 "metadata": {
  "kernelspec": {
   "display_name": "Python 3",
   "language": "python",
   "name": "python3"
  },
  "language_info": {
   "codemirror_mode": {
    "name": "ipython",
    "version": 3
   },
   "file_extension": ".py",
   "mimetype": "text/x-python",
   "name": "python",
   "nbconvert_exporter": "python",
   "pygments_lexer": "ipython3",
   "version": "3.11.1"
  },
  "orig_nbformat": 4,
  "vscode": {
   "interpreter": {
    "hash": "af31991c939d0d47fd88192dde140282c60bcd0650d9319c70f9d5b7f17cd661"
   }
  }
 },
 "nbformat": 4,
 "nbformat_minor": 2
}
