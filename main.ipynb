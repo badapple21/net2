{
 "cells": [
  {
   "cell_type": "code",
   "execution_count": 24,
   "metadata": {},
   "outputs": [],
   "source": [
    "from mnist import MNIST\n",
    "import random \n",
    "import math\n",
    "\n",
    "mndata = MNIST('samples')\n",
    "\n",
    "images, labels = mndata.load_training()\n",
    "# 1or\n",
    "# images, labels = mndata.load_testing()"
   ]
  },
  {
   "cell_type": "code",
   "execution_count": 25,
   "metadata": {},
   "outputs": [],
   "source": [
    "# index = 999  # choose an index ;-)\n",
    "# # print(mndata.display(images[index]))\n",
    "# print(labels[index])\n",
    "# print(len(images[index]))"
   ]
  },
  {
   "cell_type": "code",
   "execution_count": 26,
   "metadata": {},
   "outputs": [
    {
     "data": {
      "image/png": "[encoded data removed]",
      "text/plain": [
       "<Figure size 640x480 with 1 Axes>"
      ]
     },
     "metadata": {},
     "output_type": "display_data"
    }
   ],
   "source": [
    "import matplotlib.pyplot as plt\n",
    "import numpy as np\n",
    "index = 55\n",
    "image = np.array(images[index]).reshape(28, 28)\n",
    "plt.imshow(image)\n",
    "plt.show()"
   ]
  },
  {
   "cell_type": "code",
   "execution_count": 27,
   "metadata": {},
   "outputs": [],
   "source": [
    "class neuron:\n",
    "    def __init__(self, activation, layer, row, weights, bias):\n",
    "        self.activation = activation\n",
    "        self.layer = layer\n",
    "        self.row = row\n",
    "        self.weights = weights\n",
    "        self.bias = bias \n"
   ]
  },
  {
   "cell_type": "code",
   "execution_count": 28,
   "metadata": {},
   "outputs": [],
   "source": [
    "class input_neuron(neuron):\n",
    "    def __init__(self, activation, row):\n",
    "        super().__init__(activation, 0, row, [], 0)"
   ]
  },
  {
   "cell_type": "code",
   "execution_count": 29,
   "metadata": {},
   "outputs": [],
   "source": [
    "class output_neuron(neuron):\n",
    "    def __init__(self, activation, row, weights, bias):\n",
    "        super().__init__(0, 3, row, weights, bias)"
   ]
  },
  {
   "cell_type": "code",
   "execution_count": 30,
   "metadata": {},
   "outputs": [],
   "source": [
    "class hidden_neuron(neuron):\n",
    "    def __init__(self, activation, layer, row, weights, bias):\n",
    "        super().__init__(activation, layer, row, weights, bias)"
   ]
  },
  {
   "cell_type": "code",
   "execution_count": 31,
   "metadata": {},
   "outputs": [],
   "source": [
    "net = [[],[],[],[]]\n",
    "for i in range(len(images[0])):\n",
    "    net[0].append(input_neuron(0, i))\n",
    "for i in range(1, 3):\n",
    "    for j in range(16):\n",
    "        net[i].append(hidden_neuron(0, i, j, [random.randint(0, 100)/100 for i in range(len(net[i-1]))], random.randint(1, 100)))\n",
    "for i in range(10):\n",
    "    net[3].append(output_neuron(0, i, [random.randint(0, 100)/100 for i in range(len(net[2]))], random.randint(1, 100)))\n"
   ]
  },
  {
   "cell_type": "code",
   "execution_count": 32,
   "metadata": {},
   "outputs": [],
   "source": [
    "image_number = 0\n",
    "for i in range(len(net[0])):\n",
    "    net[0][i].activation = images[image_number][i]\n",
    "    "
   ]
  },
  {
   "cell_type": "code",
   "execution_count": 35,
   "metadata": {},
   "outputs": [
    {
     "name": "stdout",
     "output_type": "stream",
     "text": [
      "1.0\n",
      "1.0\n",
      "1.0\n",
      "1.0\n",
      "1.0\n",
      "1.0\n",
      "1.0\n",
      "1.0\n",
      "1.0\n",
      "1.0\n",
      "1.0\n",
      "1.0\n",
      "1.0\n",
      "1.0\n",
      "1.0\n",
      "1.0\n",
      "################################\n",
      "1.0\n",
      "1.0\n",
      "0.9999999725252938\n",
      "1.0\n",
      "1.0\n",
      "1.0\n",
      "1.0\n",
      "1.0\n",
      "1.0\n",
      "1.0\n",
      "1.0\n",
      "1.0\n",
      "1.0\n",
      "0.9999999999938833\n",
      "0.9999999654203348\n",
      "1.0\n",
      "###################################\n",
      "1.0\n",
      "0.9999989107280981\n",
      "1.0\n",
      "1.0\n",
      "1.0\n",
      "0.9999997844343188\n",
      "1.0\n",
      "1.0\n",
      "0.9999999999999987\n",
      "1.0\n"
     ]
    }
   ],
   "source": [
    "def run_net(input, net):\n",
    "    #loads image\n",
    "    for i in range(len(net[0])):\n",
    "        net[0][i].activation=input[i]\n",
    "    # activates first hidden layer\n",
    "    activate_layer(net, 1)\n",
    "    print(\"################################\")\n",
    "    activate_layer(net, 2)\n",
    "    print(\"###################################\")\n",
    "    activate_layer(net, 3)\n",
    "\n",
    "def activate_layer(net, layer):\n",
    "    for i in range(len(net[layer])):\n",
    "        for j in range(len(net[layer-1])):\n",
    "            net[layer][i].activation += (net[layer-1][j].activation * net[layer][i].weights[j])\n",
    "        net[layer][i].activation += net[layer][i].bias\n",
    "        net[layer][i].activation = 1/(1+math.exp(net[layer][i].activation * -1))\n",
    "        print(net[layer][i].activation)\n",
    "\n",
    "\n",
    "    \n",
    "\n",
    "run_net(images[0], net)"
   ]
  },
  {
   "cell_type": "code",
   "execution_count": null,
   "metadata": {},
   "outputs": [],
   "source": []
  }
 ],
 "metadata": {
  "kernelspec": {
   "display_name": "Python 3",
   "language": "python",
   "name": "python3"
  },
  "language_info": {
   "codemirror_mode": {
    "name": "ipython",
    "version": 3
   },
   "file_extension": ".py",
   "mimetype": "text/x-python",
   "name": "python",
   "nbconvert_exporter": "python",
   "pygments_lexer": "ipython3",
   "version": "3.11.3"
  },
  "orig_nbformat": 4,
  "vscode": {
   "interpreter": {
    "hash": "af31991c939d0d47fd88192dde140282c60bcd0650d9319c70f9d5b7f17cd661"
   }
  }
 },
 "nbformat": 4,
 "nbformat_minor": 2
}
